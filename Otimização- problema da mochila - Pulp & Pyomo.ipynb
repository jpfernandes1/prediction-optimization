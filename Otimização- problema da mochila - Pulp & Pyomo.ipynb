{
 "cells": [
  {
   "cell_type": "markdown",
   "id": "0bfcf3f8",
   "metadata": {},
   "source": [
    "### Problema da mochila - Modelagem"
   ]
  },
  {
   "cell_type": "markdown",
   "id": "281a1fc5",
   "metadata": {},
   "source": [
    "Contextualização: Capturar o problema e gerar a solução dentro das regras de negócio.\n",
    "\n",
    "Modelo de predição: Explica/mostra o que irá acontecer a partir de variáveis.\n",
    "Modelo de otimização: Também faz uso de variáveis mas é mais específico para tomada de decisão.\n",
    "\n",
    "Em resumo, através do output do modelo de predição temos uma noção do que pode acontecer no futuro.\n",
    "Contudo, esse output não leva em conta as restrições e regras de negócio, que somente são consideradas na otimização."
   ]
  },
  {
   "cell_type": "markdown",
   "id": "c0d79dff",
   "metadata": {},
   "source": [
    "### Caso da mochila"
   ]
  },
  {
   "cell_type": "markdown",
   "id": "40271b5a",
   "metadata": {},
   "source": [
    "Capacidade máxima: \n",
    "   * Volume: 20 L\n",
    "   * Peso: 10 kg"
   ]
  },
  {
   "cell_type": "markdown",
   "id": "9082f279",
   "metadata": {},
   "source": [
    "**Os itens**"
   ]
  },
  {
   "cell_type": "markdown",
   "id": "e1569af9",
   "metadata": {},
   "source": [
    "Chocolate:\n",
    "* Volume: 5 litros\n",
    "* Peso: 1 KG\n",
    "* Lucro: 13 R$/Caixa"
   ]
  },
  {
   "cell_type": "markdown",
   "id": "5580976d",
   "metadata": {},
   "source": [
    "Bandeja de Picanha:\n",
    "\n",
    "* Volume: 2 Litro\n",
    "* Peso: 2 KG\n",
    "* Lucro: 8 R$/Bandeja"
   ]
  },
  {
   "cell_type": "markdown",
   "id": "68f8cd57",
   "metadata": {},
   "source": [
    "**Formulação Matemática**"
   ]
  },
  {
   "cell_type": "markdown",
   "id": "34810c1b",
   "metadata": {},
   "source": [
    "Função Objetivo:\n",
    "    \n",
    "max Z = 13x + 8y - Lucro se eu levar X caixas de chocolate e Y bandejas de picanha\n",
    "    \n",
    "Restrições:\n",
    "- $5x + 2y \\leq20$ - Avaliado com base no volume suportado\n",
    "- $x + 2y \\leq10$ - Avaliado com base o peso suportado\n",
    "\n",
    "Os numeros não podem ser negativos:\n",
    "- $x\\geq0$\n",
    "- $y\\geq0$"
   ]
  },
  {
   "cell_type": "markdown",
   "id": "5944c693",
   "metadata": {},
   "source": [
    "## Resolvendo o problema com o pulp"
   ]
  },
  {
   "cell_type": "code",
   "execution_count": 34,
   "id": "c7e61799",
   "metadata": {},
   "outputs": [],
   "source": [
    "import pulp"
   ]
  },
  {
   "cell_type": "code",
   "execution_count": 58,
   "id": "722b369a",
   "metadata": {},
   "outputs": [],
   "source": [
    "# Instanciando o problema\n",
    "\n",
    "bag_problem = pulp.LpProblem(\"Bag_Problem\", pulp.LpMaximize)\n",
    "\n",
    "# Declarando as variáveis\n",
    "x = pulp.LpVariable('x', lowBound=0, cat='Continuous')\n",
    "y = pulp.LpVariable('y', lowBound=0, cat= 'Continuous')\n",
    "\n",
    "#obs.: lowBound = limite inferior. Caso haja um máximo, pode-se passar também o limite superior."
   ]
  },
  {
   "cell_type": "markdown",
   "id": "920f04f1",
   "metadata": {},
   "source": [
    "Adicionando a função objetivo e as Restrições, através do operador +="
   ]
  },
  {
   "cell_type": "code",
   "execution_count": 59,
   "id": "6df74c6e",
   "metadata": {},
   "outputs": [],
   "source": [
    "#Função objetivo\n",
    "bag_problem += 13*x + 8*y, 'Z'\n",
    "\n",
    "#Restrições\n",
    "bag_problem += 5*x + 2*y <= 20 \n",
    "bag_problem += x + 2*y <= 10"
   ]
  },
  {
   "cell_type": "markdown",
   "id": "5345b1be",
   "metadata": {},
   "source": [
    "Resolvendo o problema"
   ]
  },
  {
   "cell_type": "code",
   "execution_count": 60,
   "id": "4a11aef1",
   "metadata": {},
   "outputs": [
    {
     "data": {
      "text/plain": [
       "'Optimal'"
      ]
     },
     "execution_count": 60,
     "metadata": {},
     "output_type": "execute_result"
    }
   ],
   "source": [
    "bag_problem.solve() # Cria a solução\n",
    "pulp.LpStatus[bag_problem.status] # Exibe o status da solução"
   ]
  },
  {
   "cell_type": "markdown",
   "id": "271218e6",
   "metadata": {},
   "source": [
    "#### Status da solução"
   ]
  },
  {
   "cell_type": "markdown",
   "id": "1ca701ad",
   "metadata": {},
   "source": [
    "Pode ser:\n",
    "\n",
    "- Ótima\n",
    "- Infactível (não teremos a resposta de x e y, nem a função objetiva)\n",
    "- ILimitada\n",
    "- Múltipla (dois pontos com funções objetivas iguais - duas soluções com mesmo resultado)"
   ]
  },
  {
   "cell_type": "markdown",
   "id": "cdfa6d55",
   "metadata": {},
   "source": [
    "Vizualizando a solução "
   ]
  },
  {
   "cell_type": "code",
   "execution_count": 61,
   "id": "d9bb3511",
   "metadata": {},
   "outputs": [
    {
     "name": "stdout",
     "output_type": "stream",
     "text": [
      "x= 2.5\n",
      "y= 3.75\n"
     ]
    }
   ],
   "source": [
    "for variable in bag_problem.variables():\n",
    "    print(f'{variable.name}= {variable.varValue}')"
   ]
  },
  {
   "cell_type": "markdown",
   "id": "05cb25f2",
   "metadata": {},
   "source": [
    "Valor da função objetivo"
   ]
  },
  {
   "cell_type": "code",
   "execution_count": 62,
   "id": "616a2c64",
   "metadata": {},
   "outputs": [
    {
     "name": "stdout",
     "output_type": "stream",
     "text": [
      "62.5\n"
     ]
    }
   ],
   "source": [
    "# Valor da função objetiva\n",
    "print(pulp.value(bag_problem.objective))"
   ]
  },
  {
   "cell_type": "code",
   "execution_count": 63,
   "id": "b27f4dbc",
   "metadata": {},
   "outputs": [
    {
     "data": {
      "text/plain": [
       "Bag_Problem:\n",
       "MAXIMIZE\n",
       "13*x + 8*y + 0\n",
       "SUBJECT TO\n",
       "_C1: 5 x + 2 y <= 20\n",
       "\n",
       "_C2: x + 2 y <= 10\n",
       "\n",
       "VARIABLES\n",
       "x Continuous\n",
       "y Continuous"
      ]
     },
     "execution_count": 63,
     "metadata": {},
     "output_type": "execute_result"
    }
   ],
   "source": [
    "bag_problem"
   ]
  },
  {
   "cell_type": "markdown",
   "id": "eed8b73d",
   "metadata": {},
   "source": [
    "**Representação gráfica da região factível e do resultado encontrado**"
   ]
  },
  {
   "cell_type": "code",
   "execution_count": 64,
   "id": "0ae09bae",
   "metadata": {},
   "outputs": [],
   "source": [
    "import numpy as np\n",
    "import matplotlib.pyplot as plt"
   ]
  },
  {
   "cell_type": "code",
   "execution_count": 73,
   "id": "051312fd",
   "metadata": {},
   "outputs": [
    {
     "data": {
      "text/plain": [
       "Text(2.7, 3.75, 'Ponto ótimo (2.5, 3.75)')"
      ]
     },
     "execution_count": 73,
     "metadata": {},
     "output_type": "execute_result"
    },
    {
     "data": {
      "image/png": "[encoded data removed]",
      "text/plain": [
       "<Figure size 432x288 with 1 Axes>"
      ]
     },
     "metadata": {
      "needs_background": "light"
     },
     "output_type": "display_data"
    }
   ],
   "source": [
    "%matplotlib inline\n",
    "\n",
    "# instanciando variáveis\n",
    "\n",
    "x = np.linspace(0,24,2000) #Para traçar a linha\n",
    "y1 = (20 - 5*x)/2 \n",
    "y2 = (10 - x)/2\n",
    "\n",
    "plt.plot(x, y1, label = r'$5x+2y\\leq20$')\n",
    "plt.plot(x, y2, label = r'$x + 2y \\leq10$')\n",
    "plt.legend(bbox_to_anchor=(1.05,1), loc=2, borderaxespad=0) #Para criar a legenda\n",
    "\n",
    "# Reduzindo aplitude dos valores dos eixos e nomeando-os.\n",
    "plt.xlim((0,6))\n",
    "plt.ylim((0,8))\n",
    "plt.xlabel(r'$X$')\n",
    "plt.ylabel(r'$Y$')\n",
    "\n",
    "# Região factível - onde os resultados obedecem às restrições\n",
    "\n",
    "y3 = np.minimum(y2,y1)\n",
    "plt.fill_between(x,y3,color='grey', alpha = 0.4);\n",
    "\n",
    "#Ponto ótimo\n",
    "\n",
    "plt.plot(2.5,3.75, marker ='o', color = 'red')\n",
    "plt.annotate('Ponto ótimo (2.5, 3.75)',xy=(2.7,3.75))\n",
    "\n",
    "#plt.plot(a_min1, mass1, 'b.')"
   ]
  },
  {
   "cell_type": "markdown",
   "id": "affc7940",
   "metadata": {},
   "source": [
    "**Insights importantes**\n",
    "\n",
    "Considerando que buscamos maximizar o resultado, em problemas lineares o ponto ótimo¹ sempre será em cima de uma restrição.\n",
    "Contudo, muitas vezes essa resolução trará valores fracionados, o que nem sempre é uma solução factível. No caso aqui presente, as variáveis precisam ter valores inteiros para ser factível já que não podemos comprar 2,5 caixas de chocolate ou 3.75 bandejas de picanha, por exemplo.\n",
    "\n",
    "¹Melhor resultado possível"
   ]
  },
  {
   "cell_type": "markdown",
   "id": "ea858808",
   "metadata": {},
   "source": [
    "### Dessa forma, muitas vezes precisamos definir que o resultado seja um valor inteiro no parametro cat:"
   ]
  },
  {
   "cell_type": "code",
   "execution_count": 66,
   "id": "262ea130",
   "metadata": {},
   "outputs": [
    {
     "data": {
      "text/plain": [
       "'Optimal'"
      ]
     },
     "execution_count": 66,
     "metadata": {},
     "output_type": "execute_result"
    }
   ],
   "source": [
    "# Instanciando o problema\n",
    "\n",
    "bag_problem_int = pulp.LpProblem(\"Bag_Problem_int\", pulp.LpMaximize)\n",
    "\n",
    "# Declarando as variáveis\n",
    "x = pulp.LpVariable('x', lowBound=0, cat='Integer')\n",
    "y = pulp.LpVariable('y', lowBound=0, cat= 'Integer')\n",
    "\n",
    "#Função objetivo\n",
    "bag_problem_int += 13*x + 8*y, 'Z'\n",
    "\n",
    "#Restrições\n",
    "bag_problem_int += 5*x + 2*y <= 20 \n",
    "bag_problem_int += x + 2*y <= 10\n",
    "\n",
    "bag_problem_int.solve() # Cria a solução\n",
    "pulp.LpStatus[bag_problem_int.status] # Exibe o status da solução"
   ]
  },
  {
   "cell_type": "code",
   "execution_count": 67,
   "id": "8c1c479f",
   "metadata": {},
   "outputs": [
    {
     "name": "stdout",
     "output_type": "stream",
     "text": [
      "x= 2.0\n",
      "y= 4.0\n"
     ]
    }
   ],
   "source": [
    "for variable in bag_problem_int.variables():\n",
    "    print(f'{variable.name}= {variable.varValue}')"
   ]
  },
  {
   "cell_type": "code",
   "execution_count": 68,
   "id": "a374adf1",
   "metadata": {},
   "outputs": [
    {
     "name": "stdout",
     "output_type": "stream",
     "text": [
      "58.0\n"
     ]
    }
   ],
   "source": [
    "# Valor da função objetiva\n",
    "print(pulp.value(bag_problem_int.objective))"
   ]
  },
  {
   "cell_type": "code",
   "execution_count": 80,
   "id": "7839bf04",
   "metadata": {},
   "outputs": [
    {
     "data": {
      "text/plain": [
       "Text(0.1, 3.3, 'Solução factível: (2.0, 4.0)')"
      ]
     },
     "execution_count": 80,
     "metadata": {},
     "output_type": "execute_result"
    },
    {
     "data": {
      "image/png": "[encoded data removed]",
      "text/plain": [
       "<Figure size 432x288 with 1 Axes>"
      ]
     },
     "metadata": {
      "needs_background": "light"
     },
     "output_type": "display_data"
    }
   ],
   "source": [
    "%matplotlib inline\n",
    "\n",
    "# instanciando variáveis\n",
    "\n",
    "x = np.linspace(0,24,2000) #Para traçar a linha\n",
    "y1 = (20 - 5*x)/2 \n",
    "y2 = (10 - x)/2\n",
    "\n",
    "plt.plot(x, y1, label = r'$5x+2y\\leq20$')\n",
    "plt.plot(x, y2, label = r'$x + 2y \\leq10$')\n",
    "plt.legend(bbox_to_anchor=(1.05,1), loc=2, borderaxespad=0) #Para criar a legenda\n",
    "\n",
    "# Reduzindo amplitude dos valores dos eixos e nomeando-os.\n",
    "plt.xlim((0,6))\n",
    "plt.ylim((0,8))\n",
    "plt.xlabel(r'$X$')\n",
    "plt.ylabel(r'$Y$')\n",
    "\n",
    "# Região factível - onde os resultados obedecem às restrições\n",
    "\n",
    "y3 = np.minimum(y2,y1)\n",
    "plt.fill_between(x,y3,color='grey', alpha = 0.4);\n",
    "\n",
    "#Ponto ótimo\n",
    "\n",
    "plt.plot(2.0,4.0, marker ='o', color = 'red')\n",
    "plt.annotate('Solução factível: (2.0, 4.0)',xy=(0.1,3.3))\n",
    "\n",
    "#plt.plot(a_min1, mass1, 'b.')"
   ]
  },
  {
   "cell_type": "markdown",
   "id": "81e6b00b",
   "metadata": {},
   "source": [
    "## Resolvendo o problema com o pyomo"
   ]
  },
  {
   "cell_type": "code",
   "execution_count": 1,
   "id": "63eb4d11",
   "metadata": {},
   "outputs": [],
   "source": [
    "#Biblioteca\n",
    "from pyomo.environ import *\n",
    "\n",
    "#Instanciando\n",
    "model = ConcreteModel() # o model será uma variável local para armazenar o modelo que estamos criando."
   ]
  },
  {
   "cell_type": "markdown",
   "id": "3c317a3d",
   "metadata": {},
   "source": [
    "#### Criando variáveis"
   ]
  },
  {
   "cell_type": "code",
   "execution_count": 2,
   "id": "193b53a0",
   "metadata": {},
   "outputs": [],
   "source": [
    "model.x1 = Var(within = NonNegativeIntegers)\n",
    "model.x2 = Var(within = NonNegativeIntegers) # Aqui já fizemos a restrição de obter apenas inteiros positivos"
   ]
  },
  {
   "cell_type": "code",
   "execution_count": 3,
   "id": "dc416c92",
   "metadata": {},
   "outputs": [
    {
     "name": "stdout",
     "output_type": "stream",
     "text": [
      "NonNegativeIntegers\n",
      "(0, None)\n"
     ]
    }
   ],
   "source": [
    "#verificação \n",
    "print(model.x1.domain)\n",
    "print(model.x1.bounds)"
   ]
  },
  {
   "cell_type": "markdown",
   "id": "7d835a49",
   "metadata": {},
   "source": [
    "#### Função Objetivo"
   ]
  },
  {
   "cell_type": "code",
   "execution_count": 4,
   "id": "11f625aa",
   "metadata": {},
   "outputs": [],
   "source": [
    "model.obj = Objective(\n",
    "    expr = 13*model.x1 + 8*model.x2,\n",
    "    sense = maximize) #Poderia ser minimize(default); obj é discricionário"
   ]
  },
  {
   "cell_type": "markdown",
   "id": "24aed8cb",
   "metadata": {},
   "source": [
    "#### Restrições"
   ]
  },
  {
   "cell_type": "code",
   "execution_count": 5,
   "id": "5af87573",
   "metadata": {},
   "outputs": [],
   "source": [
    "model.c1 = Constraint(expr = 5*model.x1 + 2*model.x2 <= 20) \n",
    "model.c2 = Constraint(expr = model.x1 + 2*model.x2 <= 10)"
   ]
  },
  {
   "cell_type": "markdown",
   "id": "7cc3d0b3",
   "metadata": {},
   "source": [
    "#### Checando todos os elementos"
   ]
  },
  {
   "cell_type": "code",
   "execution_count": 6,
   "id": "8c1f55fd",
   "metadata": {},
   "outputs": [
    {
     "name": "stdout",
     "output_type": "stream",
     "text": [
      "2 Var Declarations\n",
      "    x1 : Size=1, Index=None\n",
      "        Key  : Lower : Value : Upper : Fixed : Stale : Domain\n",
      "        None :     0 :  None :  None : False :  True : NonNegativeIntegers\n",
      "    x2 : Size=1, Index=None\n",
      "        Key  : Lower : Value : Upper : Fixed : Stale : Domain\n",
      "        None :     0 :  None :  None : False :  True : NonNegativeIntegers\n",
      "\n",
      "1 Objective Declarations\n",
      "    obj : Size=1, Index=None, Active=True\n",
      "        Key  : Active : Sense    : Expression\n",
      "        None :   True : maximize : 13*x1 + 8*x2\n",
      "\n",
      "2 Constraint Declarations\n",
      "    c1 : Size=1, Index=None, Active=True\n",
      "        Key  : Lower : Body        : Upper : Active\n",
      "        None :  -Inf : 5*x1 + 2*x2 :  20.0 :   True\n",
      "    c2 : Size=1, Index=None, Active=True\n",
      "        Key  : Lower : Body      : Upper : Active\n",
      "        None :  -Inf : x1 + 2*x2 :  10.0 :   True\n",
      "\n",
      "5 Declarations: x1 x2 obj c1 c2\n"
     ]
    }
   ],
   "source": [
    "model.pprint()"
   ]
  },
  {
   "cell_type": "markdown",
   "id": "29da3d41",
   "metadata": {},
   "source": [
    "#### Resolvendo o modelo"
   ]
  },
  {
   "cell_type": "code",
   "execution_count": 7,
   "id": "52865aa9",
   "metadata": {},
   "outputs": [],
   "source": [
    "optimizer = SolverFactory('glpk') #entre aspas o solver que utilizaremos. Alternativas: BARON, Cbc, cplex, Gurobi"
   ]
  },
  {
   "cell_type": "code",
   "execution_count": 8,
   "id": "1296f5e9",
   "metadata": {},
   "outputs": [
    {
     "name": "stdout",
     "output_type": "stream",
     "text": [
      "GLPSOL: GLPK LP/MIP Solver, v4.65\n",
      "Parameter(s) specified in the command line:\n",
      " --write C:\\Users\\JOOPAU~1\\AppData\\Local\\Temp\\tmp0d_lyral.glpk.raw --wglp\n",
      " C:\\Users\\JOOPAU~1\\AppData\\Local\\Temp\\tmpczgo1uob.glpk.glp --cpxlp C:\\Users\\JOOPAU~1\\AppData\\Local\\Temp\\tmpod97eltv.pyomo.lp\n",
      "Reading problem data from 'C:\\Users\\JOOPAU~1\\AppData\\Local\\Temp\\tmpod97eltv.pyomo.lp'...\n",
      "3 rows, 3 columns, 5 non-zeros\n",
      "2 integer variables, none of which are binary\n",
      "29 lines were read\n",
      "Writing problem data to 'C:\\Users\\JOOPAU~1\\AppData\\Local\\Temp\\tmpczgo1uob.glpk.glp'...\n",
      "22 lines were written\n",
      "GLPK Integer Optimizer, v4.65\n",
      "3 rows, 3 columns, 5 non-zeros\n",
      "2 integer variables, none of which are binary\n",
      "Preprocessing...\n",
      "2 rows, 2 columns, 4 non-zeros\n",
      "2 integer variables, none of which are binary\n",
      "Scaling...\n",
      " A: min|aij| =  1.000e+00  max|aij| =  5.000e+00  ratio =  5.000e+00\n",
      "Problem data seem to be well scaled\n",
      "Constructing initial basis...\n",
      "Size of triangular part is 2\n",
      "Solving LP relaxation...\n",
      "GLPK Simplex Optimizer, v4.65\n",
      "2 rows, 2 columns, 4 non-zeros\n",
      "*     0: obj =  -0.000000000e+00 inf =   0.000e+00 (2)\n",
      "*     3: obj =   6.250000000e+01 inf =   0.000e+00 (0)\n",
      "OPTIMAL LP SOLUTION FOUND\n",
      "Integer optimization begins...\n",
      "Long-step dual simplex will be used\n",
      "+     3: mip =     not found yet <=              +inf        (1; 0)\n",
      "Solution found by heuristic: 55\n",
      "+     5: >>>>>   5.800000000e+01 <=   5.800000000e+01   0.0% (1; 1)\n",
      "+     5: mip =   5.800000000e+01 <=     tree is empty   0.0% (0; 3)\n",
      "INTEGER OPTIMAL SOLUTION FOUND\n",
      "Time used:   0.0 secs\n",
      "Memory used: 0.1 Mb (62372 bytes)\n",
      "Writing MIP solution to 'C:\\Users\\JOOPAU~1\\AppData\\Local\\Temp\\tmp0d_lyral.glpk.raw'...\n",
      "15 lines were written\n"
     ]
    }
   ],
   "source": [
    "import subprocess\n",
    "\n",
    "def patched_subprocess_run(*args, **kwargs):\n",
    "    if kwargs.get(\"timeout\") is not None:\n",
    "        kwargs[\"timeout\"] = 7\n",
    "    return orig_subprocess_run(*args, **kwargs)\n",
    "\n",
    "orig_subprocess_run = subprocess.run\n",
    "subprocess.run = patched_subprocess_run\n",
    "\n",
    "results = optimizer.solve(model, tee = True) # definindo Tee como True o log do processo de resolução é mostrado\n",
    "\n",
    "#Obs: A função patched_subprocess_run foi gerada para estender o tempo de execução da aplicação"
   ]
  },
  {
   "cell_type": "markdown",
   "id": "b519a696",
   "metadata": {},
   "source": [
    "#### Exibindo o status"
   ]
  },
  {
   "cell_type": "code",
   "execution_count": 9,
   "id": "1ac5278b",
   "metadata": {},
   "outputs": [
    {
     "name": "stdout",
     "output_type": "stream",
     "text": [
      "status:  ok\n"
     ]
    }
   ],
   "source": [
    "print(\"status: \", results.solver.status) # Ok quer dizer que o software rodou normalmente"
   ]
  },
  {
   "cell_type": "code",
   "execution_count": 10,
   "id": "2da73c1f",
   "metadata": {},
   "outputs": [
    {
     "name": "stdout",
     "output_type": "stream",
     "text": [
      "Valor da função objetivo:  58.0\n"
     ]
    }
   ],
   "source": [
    "# Valor da função objetivo\n",
    "print('Valor da função objetivo: ', model.obj.expr())"
   ]
  },
  {
   "cell_type": "code",
   "execution_count": 11,
   "id": "803dd4ca",
   "metadata": {},
   "outputs": [
    {
     "name": "stdout",
     "output_type": "stream",
     "text": [
      "X1=  2.0\n",
      "X2=  4.0\n"
     ]
    }
   ],
   "source": [
    " #Valor das variáveis\n",
    "\n",
    "print(\"X1= \", model.x1.value)\n",
    "print(\"X2= \", model.x2.value)"
   ]
  },
  {
   "cell_type": "code",
   "execution_count": null,
   "id": "5fed51ac",
   "metadata": {},
   "outputs": [],
   "source": []
  }
 ],
 "metadata": {
  "kernelspec": {
   "display_name": "Python 3 (ipykernel)",
   "language": "python",
   "name": "python3"
  },
  "language_info": {
   "codemirror_mode": {
    "name": "ipython",
    "version": 3
   },
   "file_extension": ".py",
   "mimetype": "text/x-python",
   "name": "python",
   "nbconvert_exporter": "python",
   "pygments_lexer": "ipython3",
   "version": "3.9.12"
  }
 },
 "nbformat": 4,
 "nbformat_minor": 5
}
