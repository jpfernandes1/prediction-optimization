{
 "cells": [
  {
   "cell_type": "markdown",
   "id": "c01e777b",
   "metadata": {},
   "source": [
    "###  Contextualização"
   ]
  },
  {
   "cell_type": "markdown",
   "id": "49aab490",
   "metadata": {},
   "source": [
    "Uma Fábrica de celulose tem 3 fazendas com materia prima(madeira) disponível para coleta e 3 empresas de logistica aptas a realizarem o transporte. Os custos unitários de transporte de cada fazenda para cada transportadora, assim como a quantidade de cargas disponíveis em cada fazenda e a quantidade de veículos por transportadora encontram-se na tabela abaixo. \n",
    "O objetivo é coletar a madeira em campo, respeitando a quantidade de madeira disponível, de forma a minimizar o custo total de transporte. Modelar o problema de transporte.\n",
    "\n",
    "| Origem | Transportadora 1 | Transportadora 2 | Transportadora 3 |  Disponível |\n",
    "| --- | --- | --- | --- | --- | \n",
    "| Fazenda 1 | 9.8 | 10.1 | 9.9 | **100** |\n",
    "| Fazenda 2| 12.1 | 11.9 | 12.3 | **140** |\n",
    "| Fazenda 3 | 8.5 | 8.8 | 8.3 | **160** |\n",
    "| Capacidade | **120** | **130** | **150** | \n"
   ]
  },
  {
   "cell_type": "markdown",
   "id": "8b075c9f",
   "metadata": {},
   "source": [
    "### Modelo Genérico"
   ]
  },
  {
   "cell_type": "markdown",
   "id": "849e808c",
   "metadata": {},
   "source": [
    "**Índices/Conjuntos**\n",
    "\n",
    "**I**: Conjunto de Transportadoras {1,2,...,m}\n",
    "\n",
    "**J** : Conjunto de fazendas {1,2,...,n}\n",
    "\n",
    "**Parâmetros**\n",
    "\n",
    "$ c_{ij}$: Custo unitário de transporte pela Transportadora $i \\in I $ a partir da fazenda $j \\in J$\n",
    "\n",
    "$a_{i}$: Quantidade de veículos disponíveis pela transportadora $ i \\in I$\n",
    "\n",
    "$b_{j}$: Quantidade de cargas para retirada da fazenda $ j \\in J$\n",
    "\n",
    " **Variáveis de decisão**\n",
    "\n",
    "$x_{ij}$: Cargas transportadas pela transportadora $ i \\in I$ a partir da fazenda $j \\in J$ - O quanto será transportado de cada fazenda por cada transportadora"
   ]
  },
  {
   "cell_type": "markdown",
   "id": "48cc687e",
   "metadata": {},
   "source": [
    "### Formulação matemática"
   ]
  },
  {
   "cell_type": "markdown",
   "id": "bd90c124",
   "metadata": {},
   "source": [
    "$ min z = \\sum\\limits_{i\\in I} \\sum\\limits_{j \\in J} c_{ij} x_{ij}$\n",
    "\n",
    "Onde:\n",
    "\n",
    "$\\sum\\limits_{j \\in J} x_{ij} \\leq a_{i}, \\forall \\; i \\in I$ - garante que a transportadora não vai enviar mais veículos do que possui\n",
    "\n",
    "$\\sum\\limits_{i \\in I} x_{ij} = b_{j}, \\forall \\; j \\in J$ - garante que toda a madeira seja retirada\n",
    "\n",
    "$x_{ij} \\geq 0 \\;\\; \\forall i \\in I \\text{, }j \\in J$"
   ]
  },
  {
   "cell_type": "markdown",
   "id": "00f9eaf1",
   "metadata": {},
   "source": [
    "Obs.: A principal vantagem de utilizar o modelo genérico é que através dele podemos utilizar loops de preenchimento dos nossos dados reais no pyomo de acordo com a estrutura da nossa formulação. Essa prática é extremamente necessária em problemas maiores, caso contrário precisaríamos inserir as restrições uma por uma. "
   ]
  },
  {
   "cell_type": "markdown",
   "id": "53f98965",
   "metadata": {},
   "source": [
    "### Preparando os dados"
   ]
  },
  {
   "cell_type": "code",
   "execution_count": 1,
   "id": "6eda2db1",
   "metadata": {},
   "outputs": [],
   "source": [
    "custos = [[9.8,10.1,9.9],\n",
    "          [12.1,11.9,12.3],\n",
    "          [8.5,8.8,8.3]]\n",
    "\n",
    "veiculos = [120,130,150]\n",
    "\n",
    "cargas = [100,140,160]"
   ]
  },
  {
   "cell_type": "code",
   "execution_count": 2,
   "id": "c79a47dc",
   "metadata": {},
   "outputs": [],
   "source": [
    "m = len(veiculos)\n",
    "n = len(cargas)"
   ]
  },
  {
   "cell_type": "markdown",
   "id": "8eb06000",
   "metadata": {},
   "source": [
    "### Modelo computacional"
   ]
  },
  {
   "cell_type": "code",
   "execution_count": 3,
   "id": "e4df5674",
   "metadata": {},
   "outputs": [],
   "source": [
    "import pyomo.environ as pyo"
   ]
  },
  {
   "cell_type": "code",
   "execution_count": 4,
   "id": "f8ade8dd",
   "metadata": {},
   "outputs": [],
   "source": [
    "#Instanciando o modelo:\n",
    "\n",
    "modelo = pyo.ConcreteModel()"
   ]
  },
  {
   "cell_type": "code",
   "execution_count": 5,
   "id": "b36fdc82",
   "metadata": {},
   "outputs": [],
   "source": [
    "# Declaração dos conjuntos:\n",
    "\n",
    "modelo.I = pyo.RangeSet(m)\n",
    "modelo.J = pyo.RangeSet(n)"
   ]
  },
  {
   "cell_type": "code",
   "execution_count": 6,
   "id": "a28a85f7",
   "metadata": {},
   "outputs": [
    {
     "name": "stdout",
     "output_type": "stream",
     "text": [
      "2 RangeSet Declarations\n",
      "    I : Dimen=1, Size=3, Bounds=(1, 3)\n",
      "        Key  : Finite : Members\n",
      "        None :   True :   [1:3]\n",
      "    J : Dimen=1, Size=3, Bounds=(1, 3)\n",
      "        Key  : Finite : Members\n",
      "        None :   True :   [1:3]\n",
      "\n",
      "2 Declarations: I J\n"
     ]
    }
   ],
   "source": [
    "modelo.pprint()"
   ]
  },
  {
   "cell_type": "code",
   "execution_count": 7,
   "id": "aa034bb3",
   "metadata": {},
   "outputs": [],
   "source": [
    "modelo.c = pyo.Param(modelo.I, modelo.J, initialize=lambda modelo, i, j: custos[i-1][j-1])"
   ]
  },
  {
   "cell_type": "code",
   "execution_count": 8,
   "id": "68639128",
   "metadata": {},
   "outputs": [
    {
     "name": "stdout",
     "output_type": "stream",
     "text": [
      "1 Set Declarations\n",
      "    c_index : Size=1, Index=None, Ordered=True\n",
      "        Key  : Dimen : Domain : Size : Members\n",
      "        None :     2 :    I*J :    9 : {(1, 1), (1, 2), (1, 3), (2, 1), (2, 2), (2, 3), (3, 1), (3, 2), (3, 3)}\n",
      "\n",
      "2 RangeSet Declarations\n",
      "    I : Dimen=1, Size=3, Bounds=(1, 3)\n",
      "        Key  : Finite : Members\n",
      "        None :   True :   [1:3]\n",
      "    J : Dimen=1, Size=3, Bounds=(1, 3)\n",
      "        Key  : Finite : Members\n",
      "        None :   True :   [1:3]\n",
      "\n",
      "1 Param Declarations\n",
      "    c : Size=9, Index=c_index, Domain=Any, Default=None, Mutable=False\n",
      "        Key    : Value\n",
      "        (1, 1) :   9.8\n",
      "        (1, 2) :  10.1\n",
      "        (1, 3) :   9.9\n",
      "        (2, 1) :  12.1\n",
      "        (2, 2) :  11.9\n",
      "        (2, 3) :  12.3\n",
      "        (3, 1) :   8.5\n",
      "        (3, 2) :   8.8\n",
      "        (3, 3) :   8.3\n",
      "\n",
      "4 Declarations: I J c_index c\n"
     ]
    }
   ],
   "source": [
    "modelo.pprint()"
   ]
  },
  {
   "cell_type": "code",
   "execution_count": 9,
   "id": "51613161",
   "metadata": {},
   "outputs": [],
   "source": [
    "modelo.a = pyo.Param(modelo.I, initialize=lambda modelo, i: veiculos[i-1])"
   ]
  },
  {
   "cell_type": "code",
   "execution_count": 10,
   "id": "db7779c9",
   "metadata": {},
   "outputs": [],
   "source": [
    "modelo.b = pyo.Param(modelo.J, initialize=lambda modelo, j: cargas[j-1])"
   ]
  },
  {
   "cell_type": "code",
   "execution_count": 11,
   "id": "c49a41b5",
   "metadata": {},
   "outputs": [
    {
     "name": "stdout",
     "output_type": "stream",
     "text": [
      "1 Set Declarations\n",
      "    c_index : Size=1, Index=None, Ordered=True\n",
      "        Key  : Dimen : Domain : Size : Members\n",
      "        None :     2 :    I*J :    9 : {(1, 1), (1, 2), (1, 3), (2, 1), (2, 2), (2, 3), (3, 1), (3, 2), (3, 3)}\n",
      "\n",
      "2 RangeSet Declarations\n",
      "    I : Dimen=1, Size=3, Bounds=(1, 3)\n",
      "        Key  : Finite : Members\n",
      "        None :   True :   [1:3]\n",
      "    J : Dimen=1, Size=3, Bounds=(1, 3)\n",
      "        Key  : Finite : Members\n",
      "        None :   True :   [1:3]\n",
      "\n",
      "3 Param Declarations\n",
      "    a : Size=3, Index=I, Domain=Any, Default=None, Mutable=False\n",
      "        Key : Value\n",
      "          1 :   120\n",
      "          2 :   130\n",
      "          3 :   150\n",
      "    b : Size=3, Index=J, Domain=Any, Default=None, Mutable=False\n",
      "        Key : Value\n",
      "          1 :   100\n",
      "          2 :   140\n",
      "          3 :   160\n",
      "    c : Size=9, Index=c_index, Domain=Any, Default=None, Mutable=False\n",
      "        Key    : Value\n",
      "        (1, 1) :   9.8\n",
      "        (1, 2) :  10.1\n",
      "        (1, 3) :   9.9\n",
      "        (2, 1) :  12.1\n",
      "        (2, 2) :  11.9\n",
      "        (2, 3) :  12.3\n",
      "        (3, 1) :   8.5\n",
      "        (3, 2) :   8.8\n",
      "        (3, 3) :   8.3\n",
      "\n",
      "6 Declarations: I J c_index c a b\n"
     ]
    }
   ],
   "source": [
    "modelo.pprint()"
   ]
  },
  {
   "cell_type": "code",
   "execution_count": 12,
   "id": "966089da",
   "metadata": {},
   "outputs": [],
   "source": [
    "modelo.x = pyo.Var(modelo.I, modelo.J, within=pyo.NonNegativeReals)"
   ]
  },
  {
   "cell_type": "code",
   "execution_count": 13,
   "id": "52acb4ba",
   "metadata": {},
   "outputs": [
    {
     "name": "stdout",
     "output_type": "stream",
     "text": [
      "2 Set Declarations\n",
      "    c_index : Size=1, Index=None, Ordered=True\n",
      "        Key  : Dimen : Domain : Size : Members\n",
      "        None :     2 :    I*J :    9 : {(1, 1), (1, 2), (1, 3), (2, 1), (2, 2), (2, 3), (3, 1), (3, 2), (3, 3)}\n",
      "    x_index : Size=1, Index=None, Ordered=True\n",
      "        Key  : Dimen : Domain : Size : Members\n",
      "        None :     2 :    I*J :    9 : {(1, 1), (1, 2), (1, 3), (2, 1), (2, 2), (2, 3), (3, 1), (3, 2), (3, 3)}\n",
      "\n",
      "2 RangeSet Declarations\n",
      "    I : Dimen=1, Size=3, Bounds=(1, 3)\n",
      "        Key  : Finite : Members\n",
      "        None :   True :   [1:3]\n",
      "    J : Dimen=1, Size=3, Bounds=(1, 3)\n",
      "        Key  : Finite : Members\n",
      "        None :   True :   [1:3]\n",
      "\n",
      "3 Param Declarations\n",
      "    a : Size=3, Index=I, Domain=Any, Default=None, Mutable=False\n",
      "        Key : Value\n",
      "          1 :   120\n",
      "          2 :   130\n",
      "          3 :   150\n",
      "    b : Size=3, Index=J, Domain=Any, Default=None, Mutable=False\n",
      "        Key : Value\n",
      "          1 :   100\n",
      "          2 :   140\n",
      "          3 :   160\n",
      "    c : Size=9, Index=c_index, Domain=Any, Default=None, Mutable=False\n",
      "        Key    : Value\n",
      "        (1, 1) :   9.8\n",
      "        (1, 2) :  10.1\n",
      "        (1, 3) :   9.9\n",
      "        (2, 1) :  12.1\n",
      "        (2, 2) :  11.9\n",
      "        (2, 3) :  12.3\n",
      "        (3, 1) :   8.5\n",
      "        (3, 2) :   8.8\n",
      "        (3, 3) :   8.3\n",
      "\n",
      "1 Var Declarations\n",
      "    x : Size=9, Index=x_index\n",
      "        Key    : Lower : Value : Upper : Fixed : Stale : Domain\n",
      "        (1, 1) :     0 :  None :  None : False :  True : NonNegativeReals\n",
      "        (1, 2) :     0 :  None :  None : False :  True : NonNegativeReals\n",
      "        (1, 3) :     0 :  None :  None : False :  True : NonNegativeReals\n",
      "        (2, 1) :     0 :  None :  None : False :  True : NonNegativeReals\n",
      "        (2, 2) :     0 :  None :  None : False :  True : NonNegativeReals\n",
      "        (2, 3) :     0 :  None :  None : False :  True : NonNegativeReals\n",
      "        (3, 1) :     0 :  None :  None : False :  True : NonNegativeReals\n",
      "        (3, 2) :     0 :  None :  None : False :  True : NonNegativeReals\n",
      "        (3, 3) :     0 :  None :  None : False :  True : NonNegativeReals\n",
      "\n",
      "8 Declarations: I J c_index c a b x_index x\n"
     ]
    }
   ],
   "source": [
    "modelo.pprint()"
   ]
  },
  {
   "cell_type": "markdown",
   "id": "0b113c4b",
   "metadata": {},
   "source": [
    "#### Função objetivo:\n",
    "\n",
    "Conforme já pontuamos, o intuito é garantir o menor custo possível na atividade, logo:\n",
    "\n",
    "$ min z = \\sum\\limits_{i\\in I} \\sum\\limits_{j \\in J} c_{ij} x_{ij}$"
   ]
  },
  {
   "cell_type": "code",
   "execution_count": 14,
   "id": "019c55d3",
   "metadata": {},
   "outputs": [],
   "source": [
    "# criar uma função auxiliar:\n",
    "\n",
    "def regra_transp(mod):\n",
    "    return pyo.summation(mod.c, mod.x) #summation faz a soma dos produtos"
   ]
  },
  {
   "cell_type": "code",
   "execution_count": 15,
   "id": "b5f4e06e",
   "metadata": {},
   "outputs": [],
   "source": [
    "# agora vamos incluir a função criada no pyomo:\n",
    "modelo.z = pyo.Objective(rule=regra_transp, sense=pyo.minimize)"
   ]
  },
  {
   "cell_type": "markdown",
   "id": "180ced79",
   "metadata": {},
   "source": [
    "$\\sum\\limits_{j \\in J} x_{ij} \\leq a_{i}, \\forall \\; i \\in I$ - garante que a transportadora não vai enviar mais veículos do que possui"
   ]
  },
  {
   "cell_type": "code",
   "execution_count": 16,
   "id": "b15d7c77",
   "metadata": {},
   "outputs": [],
   "source": [
    "# Declaração das restrições:\n",
    "\n",
    "def regra_restr_veic(mod, i):\n",
    "    return sum(mod.x[i,j] for j in mod.J) <= mod.a[i]\n",
    "    \n",
    "modelo.restr_cap = pyo.Constraint(modelo.I, rule=regra_restr_veic)"
   ]
  },
  {
   "cell_type": "markdown",
   "id": "4a547e02",
   "metadata": {},
   "source": [
    "$\\sum\\limits_{i \\in I} x_{ij} = b_{j}, \\forall \\; j \\in J$ - Quantidade de cargas por fazenda"
   ]
  },
  {
   "cell_type": "code",
   "execution_count": 18,
   "id": "b364a508",
   "metadata": {},
   "outputs": [],
   "source": [
    "def regra_cargas(mod, j):\n",
    "    return sum(mod.x[i,j] for i in mod.I) == mod.b[j]\n",
    "\n",
    "modelo.restr_disp = pyo.Constraint(modelo.J, rule=regra_cargas)"
   ]
  },
  {
   "cell_type": "code",
   "execution_count": 19,
   "id": "528bd5f1",
   "metadata": {},
   "outputs": [],
   "source": [
    "import subprocess\n",
    "\n",
    "def patched_subprocess_run(*args, **kwargs):\n",
    "    if kwargs.get(\"timeout\") is not None:\n",
    "        kwargs[\"timeout\"] = 7\n",
    "    return orig_subprocess_run(*args, **kwargs)\n",
    "\n",
    "orig_subprocess_run = subprocess.run\n",
    "subprocess.run = patched_subprocess_run\n",
    "\n",
    "result = pyo.SolverFactory('glpk').solve(modelo)"
   ]
  },
  {
   "cell_type": "code",
   "execution_count": 20,
   "id": "d5eac5bf",
   "metadata": {},
   "outputs": [
    {
     "name": "stdout",
     "output_type": "stream",
     "text": [
      "# ==========================================================\n",
      "# = Solver Results                                         =\n",
      "# ==========================================================\n",
      "# ----------------------------------------------------------\n",
      "#   Problem Information\n",
      "# ----------------------------------------------------------\n",
      "Problem: \n",
      "- Name: unknown\n",
      "  Lower bound: 3972.0\n",
      "  Upper bound: 3972.0\n",
      "  Number of objectives: 1\n",
      "  Number of constraints: 7\n",
      "  Number of variables: 10\n",
      "  Number of nonzeros: 19\n",
      "  Sense: minimize\n",
      "# ----------------------------------------------------------\n",
      "#   Solver Information\n",
      "# ----------------------------------------------------------\n",
      "Solver: \n",
      "- Status: ok\n",
      "  Termination condition: optimal\n",
      "  Statistics: \n",
      "    Branch and bound: \n",
      "      Number of bounded subproblems: 0\n",
      "      Number of created subproblems: 0\n",
      "  Error rc: 0\n",
      "  Time: 0.06993556022644043\n",
      "# ----------------------------------------------------------\n",
      "#   Solution Information\n",
      "# ----------------------------------------------------------\n",
      "Solution: \n",
      "- number of solutions: 0\n",
      "  number of solutions displayed: 0\n"
     ]
    }
   ],
   "source": [
    "result.write()"
   ]
  },
  {
   "cell_type": "code",
   "execution_count": 21,
   "id": "1d978020",
   "metadata": {},
   "outputs": [
    {
     "name": "stdout",
     "output_type": "stream",
     "text": [
      "x : Size=9, Index=x_index\n",
      "    Key    : Lower : Value : Upper : Fixed : Stale : Domain\n",
      "    (1, 1) :     0 : 100.0 :  None : False : False : NonNegativeReals\n",
      "    (1, 2) :     0 :  10.0 :  None : False : False : NonNegativeReals\n",
      "    (1, 3) :     0 :  10.0 :  None : False : False : NonNegativeReals\n",
      "    (2, 1) :     0 :   0.0 :  None : False : False : NonNegativeReals\n",
      "    (2, 2) :     0 : 130.0 :  None : False : False : NonNegativeReals\n",
      "    (2, 3) :     0 :   0.0 :  None : False : False : NonNegativeReals\n",
      "    (3, 1) :     0 :   0.0 :  None : False : False : NonNegativeReals\n",
      "    (3, 2) :     0 :   0.0 :  None : False : False : NonNegativeReals\n",
      "    (3, 3) :     0 : 150.0 :  None : False : False : NonNegativeReals\n"
     ]
    }
   ],
   "source": [
    "modelo.x.pprint()"
   ]
  },
  {
   "cell_type": "code",
   "execution_count": 22,
   "id": "0a09223f",
   "metadata": {},
   "outputs": [
    {
     "data": {
      "text/plain": [
       "100.0"
      ]
     },
     "execution_count": 22,
     "metadata": {},
     "output_type": "execute_result"
    }
   ],
   "source": [
    "modelo.x[1,1]()"
   ]
  },
  {
   "cell_type": "code",
   "execution_count": 23,
   "id": "25edd009",
   "metadata": {},
   "outputs": [
    {
     "name": "stdout",
     "output_type": "stream",
     "text": [
      "da Transporadora 1 para a fazenda 1, enviar 100.0 caminhões\n",
      "da Transporadora 1 para a fazenda 2, enviar 10.0 caminhões\n",
      "da Transporadora 1 para a fazenda 3, enviar 10.0 caminhões\n",
      "da Transporadora 2 para a fazenda 1, enviar 0.0 caminhões\n",
      "da Transporadora 2 para a fazenda 2, enviar 130.0 caminhões\n",
      "da Transporadora 2 para a fazenda 3, enviar 0.0 caminhões\n",
      "da Transporadora 3 para a fazenda 1, enviar 0.0 caminhões\n",
      "da Transporadora 3 para a fazenda 2, enviar 0.0 caminhões\n",
      "da Transporadora 3 para a fazenda 3, enviar 150.0 caminhões\n"
     ]
    }
   ],
   "source": [
    "for i in modelo.I:\n",
    "    for j in modelo.J:\n",
    "        print(f'da Transporadora {i} para a fazenda {j}, enviar {modelo.x[i,j]()} caminhões')"
   ]
  },
  {
   "cell_type": "code",
   "execution_count": 24,
   "id": "816a320f",
   "metadata": {
    "scrolled": true
   },
   "outputs": [
    {
     "name": "stdout",
     "output_type": "stream",
     "text": [
      "2 Set Declarations\n",
      "    c_index : Size=1, Index=None, Ordered=True\n",
      "        Key  : Dimen : Domain : Size : Members\n",
      "        None :     2 :    I*J :    9 : {(1, 1), (1, 2), (1, 3), (2, 1), (2, 2), (2, 3), (3, 1), (3, 2), (3, 3)}\n",
      "    x_index : Size=1, Index=None, Ordered=True\n",
      "        Key  : Dimen : Domain : Size : Members\n",
      "        None :     2 :    I*J :    9 : {(1, 1), (1, 2), (1, 3), (2, 1), (2, 2), (2, 3), (3, 1), (3, 2), (3, 3)}\n",
      "\n",
      "2 RangeSet Declarations\n",
      "    I : Dimen=1, Size=3, Bounds=(1, 3)\n",
      "        Key  : Finite : Members\n",
      "        None :   True :   [1:3]\n",
      "    J : Dimen=1, Size=3, Bounds=(1, 3)\n",
      "        Key  : Finite : Members\n",
      "        None :   True :   [1:3]\n",
      "\n",
      "3 Param Declarations\n",
      "    a : Size=3, Index=I, Domain=Any, Default=None, Mutable=False\n",
      "        Key : Value\n",
      "          1 :   120\n",
      "          2 :   130\n",
      "          3 :   150\n",
      "    b : Size=3, Index=J, Domain=Any, Default=None, Mutable=False\n",
      "        Key : Value\n",
      "          1 :   100\n",
      "          2 :   140\n",
      "          3 :   160\n",
      "    c : Size=9, Index=c_index, Domain=Any, Default=None, Mutable=False\n",
      "        Key    : Value\n",
      "        (1, 1) :   9.8\n",
      "        (1, 2) :  10.1\n",
      "        (1, 3) :   9.9\n",
      "        (2, 1) :  12.1\n",
      "        (2, 2) :  11.9\n",
      "        (2, 3) :  12.3\n",
      "        (3, 1) :   8.5\n",
      "        (3, 2) :   8.8\n",
      "        (3, 3) :   8.3\n",
      "\n",
      "1 Var Declarations\n",
      "    x : Size=9, Index=x_index\n",
      "        Key    : Lower : Value : Upper : Fixed : Stale : Domain\n",
      "        (1, 1) :     0 : 100.0 :  None : False : False : NonNegativeReals\n",
      "        (1, 2) :     0 :  10.0 :  None : False : False : NonNegativeReals\n",
      "        (1, 3) :     0 :  10.0 :  None : False : False : NonNegativeReals\n",
      "        (2, 1) :     0 :   0.0 :  None : False : False : NonNegativeReals\n",
      "        (2, 2) :     0 : 130.0 :  None : False : False : NonNegativeReals\n",
      "        (2, 3) :     0 :   0.0 :  None : False : False : NonNegativeReals\n",
      "        (3, 1) :     0 :   0.0 :  None : False : False : NonNegativeReals\n",
      "        (3, 2) :     0 :   0.0 :  None : False : False : NonNegativeReals\n",
      "        (3, 3) :     0 : 150.0 :  None : False : False : NonNegativeReals\n",
      "\n",
      "1 Objective Declarations\n",
      "    z : Size=1, Index=None, Active=True\n",
      "        Key  : Active : Sense    : Expression\n",
      "        None :   True : minimize : 9.8*x[1,1] + 10.1*x[1,2] + 9.9*x[1,3] + 12.1*x[2,1] + 11.9*x[2,2] + 12.3*x[2,3] + 8.5*x[3,1] + 8.8*x[3,2] + 8.3*x[3,3]\n",
      "\n",
      "2 Constraint Declarations\n",
      "    restr_cap : Size=3, Index=I, Active=True\n",
      "        Key : Lower : Body                     : Upper : Active\n",
      "          1 :  -Inf : x[1,1] + x[1,2] + x[1,3] : 120.0 :   True\n",
      "          2 :  -Inf : x[2,1] + x[2,2] + x[2,3] : 130.0 :   True\n",
      "          3 :  -Inf : x[3,1] + x[3,2] + x[3,3] : 150.0 :   True\n",
      "    restr_disp : Size=3, Index=J, Active=True\n",
      "        Key : Lower : Body                     : Upper : Active\n",
      "          1 : 100.0 : x[1,1] + x[2,1] + x[3,1] : 100.0 :   True\n",
      "          2 : 140.0 : x[1,2] + x[2,2] + x[3,2] : 140.0 :   True\n",
      "          3 : 160.0 : x[1,3] + x[2,3] + x[3,3] : 160.0 :   True\n",
      "\n",
      "11 Declarations: I J c_index c a b x_index x z restr_cap restr_disp\n"
     ]
    }
   ],
   "source": [
    "modelo.pprint()"
   ]
  }
 ],
 "metadata": {
  "kernelspec": {
   "display_name": "Python 3 (ipykernel)",
   "language": "python",
   "name": "python3"
  },
  "language_info": {
   "codemirror_mode": {
    "name": "ipython",
    "version": 3
   },
   "file_extension": ".py",
   "mimetype": "text/x-python",
   "name": "python",
   "nbconvert_exporter": "python",
   "pygments_lexer": "ipython3",
   "version": "3.9.12"
  }
 },
 "nbformat": 4,
 "nbformat_minor": 5
}
