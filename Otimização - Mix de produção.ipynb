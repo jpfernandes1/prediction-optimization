{
 "cells": [
  {
   "cell_type": "markdown",
   "id": "433cc680",
   "metadata": {},
   "source": [
    "### Contextualização"
   ]
  },
  {
   "cell_type": "markdown",
   "id": "564b526f",
   "metadata": {},
   "source": [
    "Uma fábrica de alimentos deseja produzir um novo sabor de barra de creais. Os requisitos nutricionais exigem que as barras tenham certas quantidades mínimas e máximas de certos nutriente principais, sendo: no mínimo 22% de fibra e 7% de proteína; e no máximo 55% de carboidrato e 8% de gorduras. Para produzir as barras, a industria usará como ingredientes, farinha de cereais, mel, soja e banaba. As proporções de nutrientes em cada ingrediente, bem como os custos por quilograma de cada um são apresentados na tabela a seguir:\n",
    "\n",
    "\n",
    "| Nutrientes | Cereais | Mel | Soja | Banana | Barra |\n",
    "| --- | --- | --- | --- | --- | --- |\n",
    "| Fibra | 0,26 | 0,01 | 0,25 | 0,10 | 0,22 |\n",
    "| Proteína | 0,05 | 0,05 | 0,26 | 0,02 | 0,07 |\n",
    "| Carboidrato | 0,60 | 0,75 | 0,45 | 0,24 | 0,55 |\n",
    "| Gorduras | 0,07 | - | 0,01 | 0,01 | 0,08 |\n",
    "| Custos (R$/kg) | 5,20 | 6,80 | 7,10 | 2,50 | --- |\n",
    "\n",
    "A fábrica deseja determinar em que quantidade os ingredientes devem ser misturados de modo a produzir 1 KG da barra de cereais que satisfaça às restrições nutricionais e tenha custo mínimo.\n"
   ]
  },
  {
   "cell_type": "markdown",
   "id": "ff4d864b",
   "metadata": {},
   "source": [
    "##  É possível resolver de duas formas:"
   ]
  },
  {
   "cell_type": "markdown",
   "id": "df91c4b5",
   "metadata": {},
   "source": [
    "### 1ª Forma: Utilizando o modelo concreto onde informamos os valores reais a serem multiplicados em cada variável.\n",
    "\n",
    "Vantagens: \n",
    "\n",
    " - Mais simples de entender e formular;\n",
    " - Menor numero de Conjuntos e variáveis de decisão\n",
    " \n",
    "Desvantagens:\n",
    "\n",
    " - Mais trabalhoso e até mesmo inviável em matrizes muito grandes;"
   ]
  },
  {
   "cell_type": "markdown",
   "id": "80b59395",
   "metadata": {},
   "source": [
    "**Índices/Conjuntos**\n",
    "\n",
    "**I**: Conjunto de ingredientes {1,2,...,m}\n",
    "\n",
    "**J** : Conjunto de nutrientes {1,2,...,n}\n",
    "\n",
    "####  Variáveis de decisão\n",
    "\n",
    "$ x_{i}$: Quantidade do ingrediente $i$ em 1 kg da mistura. $i$ = 1,2,3,4 "
   ]
  },
  {
   "cell_type": "markdown",
   "id": "e348a1d3",
   "metadata": {},
   "source": [
    "#### Restrições - Quais são os recursos escassos ou requisitos?\n",
    "\n",
    "Temos quatro tipos de restrições:\n",
    "\n",
    "1ª Têm um percentual mínimo:\n",
    "\n",
    "Fibra: $0,26x_{1} + 0,01x_{2} + 0,25x_{3} + 0,10x_{4}  \\geq 0,22 $\n",
    "\n",
    "Proteína: $ 0,05x_{1} + 0,05x_{2} + 0,26x_{3} + 0,02x_{4} \\geq 0,07 $\n",
    "\n",
    "2ª Têm um percentual máximo:\n",
    "\n",
    "Carboidrato: $0,60x_{1} + 0,75x_{2} + 0,45x_{3} + 0,24x_{4} \\leq 0,55x_{1} $\n",
    "\n",
    "Gorduras: $ 0,07x_{1} + 0,01x_{2} + 0,01x_{3} \\leq 0,08 $\n",
    "\n",
    "3ª O total produzido precisa ser 1 kg: $ x_{1} + x_{2} + x_{3} + x_{4} = 1 $\n",
    "\n",
    "4ª Restrição de não negatividade: $ x_{1}, x_{2}, x_{3}, x_{4} \\geq 1 $\n"
   ]
  },
  {
   "cell_type": "markdown",
   "id": "e46e0e04",
   "metadata": {},
   "source": [
    "#### Função objetivo\n",
    "\n",
    "Será o somátorio das quantidades de cada ingrediente vezes seu respectivo custo:\n",
    "\n",
    "$ min Z = 5,20x_{1} + 6,80x_{2} + 7,10x_{3} + 2,50x_{4} $"
   ]
  },
  {
   "cell_type": "markdown",
   "id": "9396dca5",
   "metadata": {},
   "source": [
    "#### Resolvendo o modelo"
   ]
  },
  {
   "cell_type": "code",
   "execution_count": 217,
   "id": "2819af03",
   "metadata": {},
   "outputs": [],
   "source": [
    "from pyomo.environ import *\n",
    "import pyomo.environ as pyo"
   ]
  },
  {
   "cell_type": "code",
   "execution_count": 218,
   "id": "2514e9b9",
   "metadata": {},
   "outputs": [],
   "source": [
    "# Instanciando o modelo\n",
    "\n",
    "modelo = pyo.ConcreteModel()"
   ]
  },
  {
   "cell_type": "code",
   "execution_count": 219,
   "id": "54967d3a",
   "metadata": {},
   "outputs": [],
   "source": [
    "modelo.X1 = pyo.Var(within = pyo.NonNegativeReals)\n",
    "modelo.X2 = pyo.Var(within = pyo.NonNegativeReals)\n",
    "modelo.X3 = pyo.Var(within = pyo.NonNegativeReals)\n",
    "modelo.X4 = pyo.Var(within = pyo.NonNegativeReals)"
   ]
  },
  {
   "cell_type": "code",
   "execution_count": 220,
   "id": "d9a82c84",
   "metadata": {},
   "outputs": [],
   "source": [
    "modelo.obj = Objective(expr = 5.20*modelo.X1 + 6.80*modelo.X2 + 7.10*modelo.X3 + 2.50*modelo.X4, sense = minimize)"
   ]
  },
  {
   "cell_type": "markdown",
   "id": "42e6817e",
   "metadata": {},
   "source": [
    "#### Restrições"
   ]
  },
  {
   "cell_type": "code",
   "execution_count": 221,
   "id": "84c21e89",
   "metadata": {},
   "outputs": [],
   "source": [
    "modelo.c1 = Constraint(expr = 0.26*modelo.X1 + 0.01*modelo.X2 + 0.25*modelo.X3 + 0.1*modelo.X4 >= 0.22)\n",
    "modelo.c2 = Constraint(expr = 0.05*modelo.X1 + 0.05*modelo.X2 + 0.26*modelo.X3 + 0.02*modelo.X4 >= 0.07)\n",
    "modelo.c3 = Constraint(expr = 0.06*modelo.X1 + 0.75*modelo.X2 + 0.45*modelo.X3 + 0.24*modelo.X4 <= 0.55)\n",
    "modelo.c4 = Constraint(expr = 0.07*modelo.X1 + 0.01*modelo.X3 + 0.01*modelo.X4 <= 0.08)"
   ]
  },
  {
   "cell_type": "markdown",
   "id": "fd29541d",
   "metadata": {},
   "source": [
    "#### Resolvendo o modelo"
   ]
  },
  {
   "cell_type": "code",
   "execution_count": 222,
   "id": "c90cbcbe",
   "metadata": {},
   "outputs": [],
   "source": [
    "optimizer = SolverFactory('glpk') #Chamando o solver que vamos usar"
   ]
  },
  {
   "cell_type": "code",
   "execution_count": 223,
   "id": "e985781c",
   "metadata": {},
   "outputs": [
    {
     "name": "stdout",
     "output_type": "stream",
     "text": [
      "GLPSOL: GLPK LP/MIP Solver, v4.65\n",
      "Parameter(s) specified in the command line:\n",
      " --write C:\\Users\\JOOPAU~1\\AppData\\Local\\Temp\\tmpl4nbw5kk.glpk.raw --wglp\n",
      " C:\\Users\\JOOPAU~1\\AppData\\Local\\Temp\\tmp7w9tmdux.glpk.glp --cpxlp C:\\Users\\JOOPAU~1\\AppData\\Local\\Temp\\tmp8xhlp4hi.pyomo.lp\n",
      "Reading problem data from 'C:\\Users\\JOOPAU~1\\AppData\\Local\\Temp\\tmp8xhlp4hi.pyomo.lp'...\n",
      "5 rows, 5 columns, 16 non-zeros\n",
      "47 lines were read\n",
      "Writing problem data to 'C:\\Users\\JOOPAU~1\\AppData\\Local\\Temp\\tmp7w9tmdux.glpk.glp'...\n",
      "38 lines were written\n",
      "GLPK Simplex Optimizer, v4.65\n",
      "5 rows, 5 columns, 16 non-zeros\n",
      "Preprocessing...\n",
      "4 rows, 4 columns, 15 non-zeros\n",
      "Scaling...\n",
      " A: min|aij| =  1.000e-02  max|aij| =  7.500e-01  ratio =  7.500e+01\n",
      "GM: min|aij| =  2.355e-01  max|aij| =  4.246e+00  ratio =  1.803e+01\n",
      "EQ: min|aij| =  5.547e-02  max|aij| =  1.000e+00  ratio =  1.803e+01\n",
      "Constructing initial basis...\n",
      "Size of triangular part is 4\n",
      "      0: obj =   0.000000000e+00 inf =   1.431e+00 (2)\n",
      "      2: obj =   4.674410163e+00 inf =   0.000e+00 (0)\n",
      "OPTIMAL LP SOLUTION FOUND\n",
      "Time used:   0.0 secs\n",
      "Memory used: 0.0 Mb (40436 bytes)\n",
      "Writing basic solution to 'C:\\Users\\JOOPAU~1\\AppData\\Local\\Temp\\tmpl4nbw5kk.glpk.raw'...\n",
      "19 lines were written\n"
     ]
    }
   ],
   "source": [
    "results = optimizer.solve(modelo, tee = True) # definindo Tee como True o log do processo de resolução é mostrado"
   ]
  },
  {
   "cell_type": "markdown",
   "id": "38bc392d",
   "metadata": {},
   "source": [
    "#### Exibição de status e resultados"
   ]
  },
  {
   "cell_type": "code",
   "execution_count": 224,
   "id": "6a9d80df",
   "metadata": {},
   "outputs": [
    {
     "name": "stdout",
     "output_type": "stream",
     "text": [
      "status:  ok\n"
     ]
    }
   ],
   "source": [
    "print(\"status: \", results.solver.status) # Ok quer dizer que o software rodou normalmente"
   ]
  },
  {
   "cell_type": "code",
   "execution_count": 225,
   "id": "d07a1fdf",
   "metadata": {},
   "outputs": [
    {
     "name": "stdout",
     "output_type": "stream",
     "text": [
      "Valor da função objetivo:  4.674410163339382\n"
     ]
    }
   ],
   "source": [
    "# Valor da função objetivo - Preço por KG produzido\n",
    "print('Valor da função objetivo: ', modelo.obj.expr())"
   ]
  },
  {
   "cell_type": "code",
   "execution_count": 226,
   "id": "d0e246f7",
   "metadata": {},
   "outputs": [
    {
     "data": {
      "text/plain": [
       "0.720508166969147"
      ]
     },
     "execution_count": 226,
     "metadata": {},
     "output_type": "execute_result"
    }
   ],
   "source": [
    "modelo.X1.value"
   ]
  },
  {
   "cell_type": "code",
   "execution_count": 227,
   "id": "377a7acd",
   "metadata": {},
   "outputs": [
    {
     "name": "stdout",
     "output_type": "stream",
     "text": [
      "X1=  0.720508166969147\n",
      "X2=  0.0\n",
      "X3=  0.130671506352087\n",
      "X4=  0.0\n"
     ]
    }
   ],
   "source": [
    " #Valor encontrado para as variáveis\n",
    "\n",
    "print(\"X1= \", modelo.X1.value)\n",
    "print(\"X2= \", modelo.X2.value)\n",
    "print(\"X3= \", modelo.X3.value)\n",
    "print(\"X4= \", modelo.X4.value)"
   ]
  },
  {
   "cell_type": "code",
   "execution_count": 228,
   "id": "56d7541c",
   "metadata": {},
   "outputs": [
    {
     "name": "stdout",
     "output_type": "stream",
     "text": [
      "4 Var Declarations\n",
      "    X1 : Size=1, Index=None\n",
      "        Key  : Lower : Value             : Upper : Fixed : Stale : Domain\n",
      "        None :     0 : 0.720508166969147 :  None : False : False : NonNegativeReals\n",
      "    X2 : Size=1, Index=None\n",
      "        Key  : Lower : Value : Upper : Fixed : Stale : Domain\n",
      "        None :     0 :   0.0 :  None : False : False : NonNegativeReals\n",
      "    X3 : Size=1, Index=None\n",
      "        Key  : Lower : Value             : Upper : Fixed : Stale : Domain\n",
      "        None :     0 : 0.130671506352087 :  None : False : False : NonNegativeReals\n",
      "    X4 : Size=1, Index=None\n",
      "        Key  : Lower : Value : Upper : Fixed : Stale : Domain\n",
      "        None :     0 :   0.0 :  None : False : False : NonNegativeReals\n",
      "\n",
      "1 Objective Declarations\n",
      "    obj : Size=1, Index=None, Active=True\n",
      "        Key  : Active : Sense    : Expression\n",
      "        None :   True : minimize : 5.2*X1 + 6.8*X2 + 7.1*X3 + 2.5*X4\n",
      "\n",
      "4 Constraint Declarations\n",
      "    c1 : Size=1, Index=None, Active=True\n",
      "        Key  : Lower : Body                                 : Upper : Active\n",
      "        None :  0.22 : 0.26*X1 + 0.01*X2 + 0.25*X3 + 0.1*X4 :  +Inf :   True\n",
      "    c2 : Size=1, Index=None, Active=True\n",
      "        Key  : Lower : Body                                  : Upper : Active\n",
      "        None :  0.07 : 0.05*X1 + 0.05*X2 + 0.26*X3 + 0.02*X4 :  +Inf :   True\n",
      "    c3 : Size=1, Index=None, Active=True\n",
      "        Key  : Lower : Body                                  : Upper : Active\n",
      "        None :  -Inf : 0.06*X1 + 0.75*X2 + 0.45*X3 + 0.24*X4 :  0.55 :   True\n",
      "    c4 : Size=1, Index=None, Active=True\n",
      "        Key  : Lower : Body                        : Upper : Active\n",
      "        None :  -Inf : 0.07*X1 + 0.01*X3 + 0.01*X4 :  0.08 :   True\n",
      "\n",
      "9 Declarations: X1 X2 X3 X4 obj c1 c2 c3 c4\n"
     ]
    }
   ],
   "source": [
    "modelo.pprint()"
   ]
  },
  {
   "cell_type": "code",
   "execution_count": null,
   "id": "dd2409c0",
   "metadata": {},
   "outputs": [],
   "source": []
  },
  {
   "cell_type": "markdown",
   "id": "1e062366",
   "metadata": {},
   "source": [
    "## 2ª Forma: Utilizando um modelo genérico onde os valores associados às variáveis serão passados através de um loop\n",
    "\n",
    "Vantagem:\n",
    "\n",
    " - Viabiliza o preenchimento rápido do conjunto de valores;\n",
    " \n",
    "Desvantagem:\n",
    "\n",
    " - Requer um conhecimento mais aprofundado em modelagem e programação;"
   ]
  },
  {
   "cell_type": "markdown",
   "id": "77cf15c3",
   "metadata": {},
   "source": [
    "**Índices/Conjuntos**\n",
    "\n",
    "**I**: Conjunto de Nutrientes {1,2,...,m}\n",
    "\n",
    "**J** : Conjunto de Ingredientes {1,2,...,n}\n",
    "\n",
    "**Parâmetros**\n",
    "\n",
    "$ c_{j}$: Custo do KG do ingrediente $j \\in J $\n",
    "\n",
    "$a_{ij}$: Quantidade que do nutriente $i \\in I $ no ingrediente $ j \\in J$\n",
    "\n",
    "$b_{i}$: Quantidade de nutriente $ i \\in I$ a ser colocado na mistura\n",
    "\n",
    "####  Variáveis de decisão\n",
    "\n",
    "$ x_{j}$: Quantidade do ingrediente $j$ em 1 kg da mistura. $j$ = 1,2,3,4 "
   ]
  },
  {
   "cell_type": "code",
   "execution_count": 269,
   "id": "be205e02",
   "metadata": {},
   "outputs": [],
   "source": [
    "ingredientes = [\"cereais\",\"mel\",\"soja\",\"banana\"]\n",
    "nutrientes = [\"fibras\",\"proteínas\",\"carboidratos\",\"gorduras\"]\n",
    "barra = [0.22, 0.07, 0.55, 0.08]\n",
    "percent = [[ 0.26, 0.01, 0.25, 0.10],\n",
    "          [0.05, 0.05, 0.26, 0.02],\n",
    "          [0.60, 0.75, 0.45, 0.24],\n",
    "          [0.07, 0, 0.01, 0.01 ]]\n",
    "custo = [ 5.20, 6.80, 7.10, 2.50]"
   ]
  },
  {
   "cell_type": "code",
   "execution_count": 270,
   "id": "a718dd9f",
   "metadata": {},
   "outputs": [],
   "source": [
    "# Avaliando quantidade de itens em cada conjunto\n",
    "m = len(nutrientes) # Quantas linhas temos\n",
    "n = len(ingredientes) # Quantas colunas"
   ]
  },
  {
   "cell_type": "markdown",
   "id": "05564a12",
   "metadata": {},
   "source": [
    "### Modelo computacional"
   ]
  },
  {
   "cell_type": "code",
   "execution_count": 271,
   "id": "3763127d",
   "metadata": {},
   "outputs": [],
   "source": [
    "model = pyo.ConcreteModel()"
   ]
  },
  {
   "cell_type": "code",
   "execution_count": 272,
   "id": "b107a5b7",
   "metadata": {},
   "outputs": [],
   "source": [
    "# Declaração dos Índices\n",
    "\n",
    "model.J = pyo.RangeSet(n)\n",
    "model.I = pyo.RangeSet(m)"
   ]
  },
  {
   "cell_type": "code",
   "execution_count": 273,
   "id": "e40d0c99",
   "metadata": {},
   "outputs": [
    {
     "name": "stdout",
     "output_type": "stream",
     "text": [
      "2 RangeSet Declarations\n",
      "    I : Dimen=1, Size=4, Bounds=(1, 4)\n",
      "        Key  : Finite : Members\n",
      "        None :   True :   [1:4]\n",
      "    J : Dimen=1, Size=4, Bounds=(1, 4)\n",
      "        Key  : Finite : Members\n",
      "        None :   True :   [1:4]\n",
      "\n",
      "2 Declarations: J I\n"
     ]
    }
   ],
   "source": [
    "model.pprint()"
   ]
  },
  {
   "cell_type": "markdown",
   "id": "23319b55",
   "metadata": {},
   "source": [
    "### Restrições\n",
    "\n",
    "Como temos duas restrições, onde cada inequação tem a desigualdade em um sentido:\n",
    "\n",
    " Para fibras e proteínas (limite inferior): $ \\sum\\limits_{j\\in J}^n a_{ij} x_{j} \\geq b_{i} $ \n",
    " \n",
    " Para carboidratos e gorduras(limite superior): $ \\sum\\limits_{j\\in J}^n a_{ij} x_{j} \\leq b_{i} $\n",
    " \n",
    " Vamos precisar múltiplicar os dados correspondentes a carboidratos e gorduras por (-1),\n",
    " desta forma estaremos invertendo o sentido da desigualdade para que fique igual à das linhas\n",
    " de fibras e proteínas."
   ]
  },
  {
   "cell_type": "code",
   "execution_count": 274,
   "id": "09c03cb5",
   "metadata": {},
   "outputs": [],
   "source": [
    "# Convertendo os valores percentuais:\n",
    "ind_linha = [2,3] #indices das linhas a converter\n",
    "ind_coluna = [0,1,2,3] # indices das colunas a converter\n",
    "\n",
    "for i in ind_linha:\n",
    "    for j in ind_coluna:\n",
    "        percent[i][j] = percent[i][j]*(-1)\n",
    "        \n",
    "# Convertendo o limite percentual:\n",
    "\n",
    "for i in ind_linha:\n",
    "    barra[i] = barra[i]*(-1)"
   ]
  },
  {
   "cell_type": "code",
   "execution_count": 275,
   "id": "bc6b0904",
   "metadata": {},
   "outputs": [
    {
     "data": {
      "text/plain": [
       "[0.22, 0.07, -0.55, -0.08]"
      ]
     },
     "execution_count": 275,
     "metadata": {},
     "output_type": "execute_result"
    }
   ],
   "source": [
    "barra"
   ]
  },
  {
   "cell_type": "code",
   "execution_count": 276,
   "id": "73c70df5",
   "metadata": {},
   "outputs": [
    {
     "data": {
      "text/plain": [
       "[[0.26, 0.01, 0.25, 0.1],\n",
       " [0.05, 0.05, 0.26, 0.02],\n",
       " [-0.6, -0.75, -0.45, -0.24],\n",
       " [-0.07, 0, -0.01, -0.01]]"
      ]
     },
     "execution_count": 276,
     "metadata": {},
     "output_type": "execute_result"
    }
   ],
   "source": [
    "percent"
   ]
  },
  {
   "cell_type": "markdown",
   "id": "f74f9cfd",
   "metadata": {},
   "source": [
    "### Parâmetros"
   ]
  },
  {
   "cell_type": "code",
   "execution_count": 277,
   "id": "72abcc28",
   "metadata": {},
   "outputs": [],
   "source": [
    "model.c = pyo.Param(model.J, initialize= lambda model, j: custo[j-1]) # loop para inserir os custos de cada ingrediente\n",
    "model.a = pyo.Param(model.I, model.J, initialize=lambda model, i, j: percentual[i-1][j-1]) #loop para inserir a matriz ingredientes x nutrientes no parametro\n",
    "model.b = pyo.Param(model.I, initialize=lambda model, i: barra[i-1]) #loop para inserir os limites de nutrientes no parametro"
   ]
  },
  {
   "cell_type": "markdown",
   "id": "875c171c",
   "metadata": {},
   "source": [
    "### Variável $Xi$ de decisão"
   ]
  },
  {
   "cell_type": "code",
   "execution_count": 278,
   "id": "b469c9d1",
   "metadata": {},
   "outputs": [],
   "source": [
    "# Declarando a variável Xi de decisão - como o X está associado ao indice J,\n",
    "# e queremos saber a quantidade dos ingredientes, usamos model.J:\n",
    "\n",
    "model.x = pyo.Var(model.J, within=pyo.NonNegativeReals)"
   ]
  },
  {
   "cell_type": "markdown",
   "id": "c4632e5b",
   "metadata": {},
   "source": [
    "### Função objetivo:\n",
    "\n",
    "$ min f(x) = \\sum\\limits_{i\\in I}^m c_{i} x_{i}$\n",
    "\n",
    "Minimizar o custo de produção. Calculado através do somatório das quantidades dos ingredientes vezes seus respectivos custos.\n"
   ]
  },
  {
   "cell_type": "code",
   "execution_count": 279,
   "id": "cf1a9cf1",
   "metadata": {},
   "outputs": [
    {
     "name": "stdout",
     "output_type": "stream",
     "text": [
      "1 Set Declarations\n",
      "    a_index : Size=1, Index=None, Ordered=True\n",
      "        Key  : Dimen : Domain : Size : Members\n",
      "        None :     2 :    I*J :   16 : {(1, 1), (1, 2), (1, 3), (1, 4), (2, 1), (2, 2), (2, 3), (2, 4), (3, 1), (3, 2), (3, 3), (3, 4), (4, 1), (4, 2), (4, 3), (4, 4)}\n",
      "\n",
      "2 RangeSet Declarations\n",
      "    I : Dimen=1, Size=4, Bounds=(1, 4)\n",
      "        Key  : Finite : Members\n",
      "        None :   True :   [1:4]\n",
      "    J : Dimen=1, Size=4, Bounds=(1, 4)\n",
      "        Key  : Finite : Members\n",
      "        None :   True :   [1:4]\n",
      "\n",
      "3 Param Declarations\n",
      "    a : Size=16, Index=a_index, Domain=Any, Default=None, Mutable=False\n",
      "        Key    : Value\n",
      "        (1, 1) :  0.26\n",
      "        (1, 2) :  0.01\n",
      "        (1, 3) :  0.25\n",
      "        (1, 4) :   0.1\n",
      "        (2, 1) :  0.05\n",
      "        (2, 2) :  0.05\n",
      "        (2, 3) :  0.26\n",
      "        (2, 4) :  0.02\n",
      "        (3, 1) :   0.6\n",
      "        (3, 2) :  0.75\n",
      "        (3, 3) :  0.45\n",
      "        (3, 4) :  0.24\n",
      "        (4, 1) :  0.07\n",
      "        (4, 2) :     0\n",
      "        (4, 3) :  0.01\n",
      "        (4, 4) :  0.01\n",
      "    b : Size=4, Index=I, Domain=Any, Default=None, Mutable=False\n",
      "        Key : Value\n",
      "          1 :  0.22\n",
      "          2 :  0.07\n",
      "          3 : -0.55\n",
      "          4 : -0.08\n",
      "    c : Size=4, Index=J, Domain=Any, Default=None, Mutable=False\n",
      "        Key : Value\n",
      "          1 :   5.2\n",
      "          2 :   6.8\n",
      "          3 :   7.1\n",
      "          4 :   2.5\n",
      "\n",
      "1 Var Declarations\n",
      "    x : Size=4, Index=J\n",
      "        Key : Lower : Value : Upper : Fixed : Stale : Domain\n",
      "          1 :     0 :  None :  None : False :  True : NonNegativeReals\n",
      "          2 :     0 :  None :  None : False :  True : NonNegativeReals\n",
      "          3 :     0 :  None :  None : False :  True : NonNegativeReals\n",
      "          4 :     0 :  None :  None : False :  True : NonNegativeReals\n",
      "\n",
      "7 Declarations: J I c a_index a b x\n"
     ]
    }
   ],
   "source": [
    "model.pprint()"
   ]
  },
  {
   "cell_type": "code",
   "execution_count": 280,
   "id": "edbea85c",
   "metadata": {},
   "outputs": [],
   "source": [
    "# criar uma função auxiliar:\n",
    "\n",
    "def custo_total(mod):\n",
    "    return pyo.summation(mod.c, mod.x) #summation faz a soma dos produtos entre os ingredientes e seus custos"
   ]
  },
  {
   "cell_type": "code",
   "execution_count": 281,
   "id": "313d33d1",
   "metadata": {},
   "outputs": [],
   "source": [
    "model.z = pyo.Objective(rule = custo_total, sense = pyo.minimize)"
   ]
  },
  {
   "cell_type": "code",
   "execution_count": 282,
   "id": "444fd72a",
   "metadata": {},
   "outputs": [],
   "source": [
    "# Declaração da restrição 1 (Fibra e Proteina):\n",
    "\n",
    "def restr_inf(model, i):\n",
    "    return sum(model.a[i,j]*model.x[j] for j in model.J) >= model.b[i] \n",
    "    #essa construção faz o índice da linha ser fixo e o que varia é apenas a coluna.\n",
    "    # Ou seja, teremos um somatório dos valores da linha.\n",
    "    \n",
    "model.cons_sup = pyo.Constraint(model.I, rule=restr_inf)"
   ]
  },
  {
   "cell_type": "code",
   "execution_count": 283,
   "id": "4000503a",
   "metadata": {},
   "outputs": [
    {
     "name": "stdout",
     "output_type": "stream",
     "text": [
      "1 Set Declarations\n",
      "    a_index : Size=1, Index=None, Ordered=True\n",
      "        Key  : Dimen : Domain : Size : Members\n",
      "        None :     2 :    I*J :   16 : {(1, 1), (1, 2), (1, 3), (1, 4), (2, 1), (2, 2), (2, 3), (2, 4), (3, 1), (3, 2), (3, 3), (3, 4), (4, 1), (4, 2), (4, 3), (4, 4)}\n",
      "\n",
      "2 RangeSet Declarations\n",
      "    I : Dimen=1, Size=4, Bounds=(1, 4)\n",
      "        Key  : Finite : Members\n",
      "        None :   True :   [1:4]\n",
      "    J : Dimen=1, Size=4, Bounds=(1, 4)\n",
      "        Key  : Finite : Members\n",
      "        None :   True :   [1:4]\n",
      "\n",
      "3 Param Declarations\n",
      "    a : Size=16, Index=a_index, Domain=Any, Default=None, Mutable=False\n",
      "        Key    : Value\n",
      "        (1, 1) :  0.26\n",
      "        (1, 2) :  0.01\n",
      "        (1, 3) :  0.25\n",
      "        (1, 4) :   0.1\n",
      "        (2, 1) :  0.05\n",
      "        (2, 2) :  0.05\n",
      "        (2, 3) :  0.26\n",
      "        (2, 4) :  0.02\n",
      "        (3, 1) :   0.6\n",
      "        (3, 2) :  0.75\n",
      "        (3, 3) :  0.45\n",
      "        (3, 4) :  0.24\n",
      "        (4, 1) :  0.07\n",
      "        (4, 2) :     0\n",
      "        (4, 3) :  0.01\n",
      "        (4, 4) :  0.01\n",
      "    b : Size=4, Index=I, Domain=Any, Default=None, Mutable=False\n",
      "        Key : Value\n",
      "          1 :  0.22\n",
      "          2 :  0.07\n",
      "          3 : -0.55\n",
      "          4 : -0.08\n",
      "    c : Size=4, Index=J, Domain=Any, Default=None, Mutable=False\n",
      "        Key : Value\n",
      "          1 :   5.2\n",
      "          2 :   6.8\n",
      "          3 :   7.1\n",
      "          4 :   2.5\n",
      "\n",
      "1 Var Declarations\n",
      "    x : Size=4, Index=J\n",
      "        Key : Lower : Value : Upper : Fixed : Stale : Domain\n",
      "          1 :     0 :  None :  None : False :  True : NonNegativeReals\n",
      "          2 :     0 :  None :  None : False :  True : NonNegativeReals\n",
      "          3 :     0 :  None :  None : False :  True : NonNegativeReals\n",
      "          4 :     0 :  None :  None : False :  True : NonNegativeReals\n",
      "\n",
      "1 Objective Declarations\n",
      "    z : Size=1, Index=None, Active=True\n",
      "        Key  : Active : Sense    : Expression\n",
      "        None :   True : minimize : 5.2*x[1] + 6.8*x[2] + 7.1*x[3] + 2.5*x[4]\n",
      "\n",
      "1 Constraint Declarations\n",
      "    cons_sup : Size=4, Index=I, Active=True\n",
      "        Key : Lower : Body                                          : Upper : Active\n",
      "          1 :  0.22 :  0.26*x[1] + 0.01*x[2] + 0.25*x[3] + 0.1*x[4] :  +Inf :   True\n",
      "          2 :  0.07 : 0.05*x[1] + 0.05*x[2] + 0.26*x[3] + 0.02*x[4] :  +Inf :   True\n",
      "          3 : -0.55 :  0.6*x[1] + 0.75*x[2] + 0.45*x[3] + 0.24*x[4] :  +Inf :   True\n",
      "          4 : -0.08 :             0.07*x[1] + 0.01*x[3] + 0.01*x[4] :  +Inf :   True\n",
      "\n",
      "9 Declarations: J I c a_index a b x z cons_sup\n"
     ]
    }
   ],
   "source": [
    "model.pprint()"
   ]
  },
  {
   "cell_type": "code",
   "execution_count": 284,
   "id": "9e6c770d",
   "metadata": {},
   "outputs": [],
   "source": [
    "result = pyo.SolverFactory('glpk').solve(model)"
   ]
  },
  {
   "cell_type": "code",
   "execution_count": 286,
   "id": "72b66433",
   "metadata": {},
   "outputs": [
    {
     "name": "stdout",
     "output_type": "stream",
     "text": [
      "1 Set Declarations\n",
      "    a_index : Size=1, Index=None, Ordered=True\n",
      "        Key  : Dimen : Domain : Size : Members\n",
      "        None :     2 :    I*J :   16 : {(1, 1), (1, 2), (1, 3), (1, 4), (2, 1), (2, 2), (2, 3), (2, 4), (3, 1), (3, 2), (3, 3), (3, 4), (4, 1), (4, 2), (4, 3), (4, 4)}\n",
      "\n",
      "2 RangeSet Declarations\n",
      "    I : Dimen=1, Size=4, Bounds=(1, 4)\n",
      "        Key  : Finite : Members\n",
      "        None :   True :   [1:4]\n",
      "    J : Dimen=1, Size=4, Bounds=(1, 4)\n",
      "        Key  : Finite : Members\n",
      "        None :   True :   [1:4]\n",
      "\n",
      "3 Param Declarations\n",
      "    a : Size=16, Index=a_index, Domain=Any, Default=None, Mutable=False\n",
      "        Key    : Value\n",
      "        (1, 1) :  0.26\n",
      "        (1, 2) :  0.01\n",
      "        (1, 3) :  0.25\n",
      "        (1, 4) :   0.1\n",
      "        (2, 1) :  0.05\n",
      "        (2, 2) :  0.05\n",
      "        (2, 3) :  0.26\n",
      "        (2, 4) :  0.02\n",
      "        (3, 1) :   0.6\n",
      "        (3, 2) :  0.75\n",
      "        (3, 3) :  0.45\n",
      "        (3, 4) :  0.24\n",
      "        (4, 1) :  0.07\n",
      "        (4, 2) :     0\n",
      "        (4, 3) :  0.01\n",
      "        (4, 4) :  0.01\n",
      "    b : Size=4, Index=I, Domain=Any, Default=None, Mutable=False\n",
      "        Key : Value\n",
      "          1 :  0.22\n",
      "          2 :  0.07\n",
      "          3 : -0.55\n",
      "          4 : -0.08\n",
      "    c : Size=4, Index=J, Domain=Any, Default=None, Mutable=False\n",
      "        Key : Value\n",
      "          1 :   5.2\n",
      "          2 :   6.8\n",
      "          3 :   7.1\n",
      "          4 :   2.5\n",
      "\n",
      "1 Var Declarations\n",
      "    x : Size=4, Index=J\n",
      "        Key : Lower : Value             : Upper : Fixed : Stale : Domain\n",
      "          1 :     0 : 0.720508166969147 :  None : False : False : NonNegativeReals\n",
      "          2 :     0 :               0.0 :  None : False : False : NonNegativeReals\n",
      "          3 :     0 : 0.130671506352087 :  None : False : False : NonNegativeReals\n",
      "          4 :     0 :               0.0 :  None : False : False : NonNegativeReals\n",
      "\n",
      "1 Objective Declarations\n",
      "    z : Size=1, Index=None, Active=True\n",
      "        Key  : Active : Sense    : Expression\n",
      "        None :   True : minimize : 5.2*x[1] + 6.8*x[2] + 7.1*x[3] + 2.5*x[4]\n",
      "\n",
      "1 Constraint Declarations\n",
      "    cons_sup : Size=4, Index=I, Active=True\n",
      "        Key : Lower : Body                                          : Upper : Active\n",
      "          1 :  0.22 :  0.26*x[1] + 0.01*x[2] + 0.25*x[3] + 0.1*x[4] :  +Inf :   True\n",
      "          2 :  0.07 : 0.05*x[1] + 0.05*x[2] + 0.26*x[3] + 0.02*x[4] :  +Inf :   True\n",
      "          3 : -0.55 :  0.6*x[1] + 0.75*x[2] + 0.45*x[3] + 0.24*x[4] :  +Inf :   True\n",
      "          4 : -0.08 :             0.07*x[1] + 0.01*x[3] + 0.01*x[4] :  +Inf :   True\n",
      "\n",
      "9 Declarations: J I c a_index a b x z cons_sup\n"
     ]
    }
   ],
   "source": [
    "model.pprint()"
   ]
  },
  {
   "cell_type": "markdown",
   "id": "d18551d3",
   "metadata": {},
   "source": [
    "### Valores $Xi$"
   ]
  },
  {
   "cell_type": "code",
   "execution_count": 287,
   "id": "f78515ab",
   "metadata": {},
   "outputs": [
    {
     "name": "stdout",
     "output_type": "stream",
     "text": [
      "x : Size=4, Index=J\n",
      "    Key : Lower : Value             : Upper : Fixed : Stale : Domain\n",
      "      1 :     0 : 0.720508166969147 :  None : False : False : NonNegativeReals\n",
      "      2 :     0 :               0.0 :  None : False : False : NonNegativeReals\n",
      "      3 :     0 : 0.130671506352087 :  None : False : False : NonNegativeReals\n",
      "      4 :     0 :               0.0 :  None : False : False : NonNegativeReals\n"
     ]
    }
   ],
   "source": [
    "model.x.pprint()"
   ]
  },
  {
   "cell_type": "code",
   "execution_count": null,
   "id": "2e40d272",
   "metadata": {},
   "outputs": [],
   "source": []
  }
 ],
 "metadata": {
  "kernelspec": {
   "display_name": "Python 3 (ipykernel)",
   "language": "python",
   "name": "python3"
  },
  "language_info": {
   "codemirror_mode": {
    "name": "ipython",
    "version": 3
   },
   "file_extension": ".py",
   "mimetype": "text/x-python",
   "name": "python",
   "nbconvert_exporter": "python",
   "pygments_lexer": "ipython3",
   "version": "3.9.12"
  }
 },
 "nbformat": 4,
 "nbformat_minor": 5
}
